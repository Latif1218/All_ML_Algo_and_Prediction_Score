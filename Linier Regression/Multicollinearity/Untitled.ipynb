{
 "cells": [
  {
   "cell_type": "markdown",
   "id": "7a724986-8be7-4ba3-9230-7e02b89144d7",
   "metadata": {},
   "source": [
    "[PDF For Multicollinearity](https://drive.google.com/file/d/131sJUu335FSldQmdP4qTbp4qdSG4jYN8/view)"
   ]
  },
  {
   "cell_type": "code",
   "execution_count": null,
   "id": "0fe40640-2abc-42f5-8e6d-c12b97c6fabf",
   "metadata": {},
   "outputs": [],
   "source": []
  }
 ],
 "metadata": {
  "kernelspec": {
   "display_name": "venv",
   "language": "python",
   "name": "venv"
  },
  "language_info": {
   "codemirror_mode": {
    "name": "ipython",
    "version": 3
   },
   "file_extension": ".py",
   "mimetype": "text/x-python",
   "name": "python",
   "nbconvert_exporter": "python",
   "pygments_lexer": "ipython3",
   "version": "3.13.1"
  }
 },
 "nbformat": 4,
 "nbformat_minor": 5
}
