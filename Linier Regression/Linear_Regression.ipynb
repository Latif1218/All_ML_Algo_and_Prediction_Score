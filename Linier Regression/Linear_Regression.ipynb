{
 "cells": [
  {
   "cell_type": "markdown",
   "id": "a9604865-dea6-4a3b-8fe4-a093b4a6f115",
   "metadata": {},
   "source": [
    "[Link of tutorial Github](https://github.com/campusx-official/100-days-of-machine-learning/tree/main)"
   ]
  },
  {
   "cell_type": "markdown",
   "id": "ac7bb8ea-5530-488d-b274-78e131f41bdc",
   "metadata": {},
   "source": [
    "# Linear Regression\n",
    "#### The interpretability of linear regression is one of its greatest strengths. The model’s equation offers clear coefficients that illustrate the influence of each independent variable on the dependent variable, enhancing our understanding of the underlying relationships. Its simplicity is a significant advantage; linear regression is transparent, easy to implement, and serves as a foundational concept for more advanced algorithms."
   ]
  },
  {
   "cell_type": "markdown",
   "id": "a1b31392-3dbe-46b6-89cf-0d314761c5bd",
   "metadata": {},
   "source": [
    "## What is the best Fit Line?\n",
    "#### Our primary objective while using linear regression is to locate the best-fit line, which implies that the error between the predicted and actual values should be kept to a minimum. There will be the least error in the best-fit line.\n",
    "\n",
    "#### The best Fit Line equation provides a straight line that represents the relationship between the dependent and independent variables. The slope of the line indicates how much the dependent variable changes for a unit change in the independent variable(s)."
   ]
  },
  {
   "cell_type": "markdown",
   "id": "5ad2e7ad-c43e-4bba-9734-24639c96e133",
   "metadata": {},
   "source": [
    "![Image](https://media.geeksforgeeks.org/wp-content/uploads/20231129130431/11111111.png)"
   ]
  },
  {
   "cell_type": "code",
   "execution_count": null,
   "id": "a6c8213a-b118-4359-bc25-4f89910eea59",
   "metadata": {},
   "outputs": [],
   "source": []
  }
 ],
 "metadata": {
  "kernelspec": {
   "display_name": "venv",
   "language": "python",
   "name": "venv"
  },
  "language_info": {
   "codemirror_mode": {
    "name": "ipython",
    "version": 3
   },
   "file_extension": ".py",
   "mimetype": "text/x-python",
   "name": "python",
   "nbconvert_exporter": "python",
   "pygments_lexer": "ipython3",
   "version": "3.13.1"
  }
 },
 "nbformat": 4,
 "nbformat_minor": 5
}
