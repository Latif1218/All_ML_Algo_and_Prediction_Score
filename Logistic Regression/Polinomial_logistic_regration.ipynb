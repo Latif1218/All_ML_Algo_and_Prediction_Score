{
 "cells": [
  {
   "cell_type": "markdown",
   "id": "8ba5eed1-9b37-4e66-ac2f-fed6ad34c630",
   "metadata": {},
   "source": [
    "[link](https://github.com/campusx-official/100-days-of-machine-learning/blob/main/day60-logistic-regression-contd/polynomial-logistic-regression.ipynb)"
   ]
  },
  {
   "cell_type": "code",
   "execution_count": null,
   "id": "0adf28c7-9dbd-4d28-8356-2b5ba8d8f7a7",
   "metadata": {},
   "outputs": [],
   "source": [
    "import numpy as np\n",
    "import pandas as pd\n",
    "import matplotlib.pyplot as plt"
   ]
  },
  {
   "cell_type": "code",
   "execution_count": null,
   "id": "936c4b45-e4e6-4fb0-ac99-230b5ef3bf4c",
   "metadata": {},
   "outputs": [],
   "source": []
  },
  {
   "cell_type": "code",
   "execution_count": null,
   "id": "2397268e-946d-4234-9eb6-df053835f907",
   "metadata": {},
   "outputs": [],
   "source": []
  }
 ],
 "metadata": {
  "kernelspec": {
   "display_name": "venv",
   "language": "python",
   "name": "venv"
  },
  "language_info": {
   "codemirror_mode": {
    "name": "ipython",
    "version": 3
   },
   "file_extension": ".py",
   "mimetype": "text/x-python",
   "name": "python",
   "nbconvert_exporter": "python",
   "pygments_lexer": "ipython3",
   "version": "3.13.1"
  }
 },
 "nbformat": 4,
 "nbformat_minor": 5
}
