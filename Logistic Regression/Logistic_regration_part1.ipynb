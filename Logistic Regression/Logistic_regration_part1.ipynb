{
 "cells": [
  {
   "cell_type": "markdown",
   "id": "ec9263e6-bd3a-4750-90b9-5b800b7a8b1c",
   "metadata": {},
   "source": [
    "[graph visual link](https://www.desmos.com/calculator)"
   ]
  },
  {
   "cell_type": "markdown",
   "id": "d9ce174f-f689-48a1-a6ab-014c7e871792",
   "metadata": {},
   "source": [
    "## Level recognation in visual inis graph[link](https://www.desmos.com/calculator/ipjruufope)"
   ]
  },
  {
   "cell_type": "markdown",
   "id": "24f341c3-2c5b-45e7-ae24-c3ed29588559",
   "metadata": {},
   "source": [
    "## Transformation [link](https://www.desmos.com/calculator/vmx8utqo9t)"
   ]
  },
  {
   "cell_type": "markdown",
   "id": "8af35600-48dc-42c9-9873-ba9bdc731bbf",
   "metadata": {},
   "source": [
    "## Transformation With Quardinate [link](https://www.desmos.com/calculator/qm80lqskst)"
   ]
  },
  {
   "cell_type": "code",
   "execution_count": null,
   "id": "331ed641-f3f3-454b-8865-fb11e69e94cd",
   "metadata": {},
   "outputs": [],
   "source": []
  }
 ],
 "metadata": {
  "kernelspec": {
   "display_name": "venv",
   "language": "python",
   "name": "venv"
  },
  "language_info": {
   "codemirror_mode": {
    "name": "ipython",
    "version": 3
   },
   "file_extension": ".py",
   "mimetype": "text/x-python",
   "name": "python",
   "nbconvert_exporter": "python",
   "pygments_lexer": "ipython3",
   "version": "3.13.1"
  }
 },
 "nbformat": 4,
 "nbformat_minor": 5
}
