{
 "cells": [
  {
   "cell_type": "markdown",
   "id": "8d430fc4-c70c-46bb-b28f-e69bec483358",
   "metadata": {},
   "source": [
    "[link](https://github.com/campusx-official/bagging-ensemble/blob/main/bagging_demo.ipynb)"
   ]
  },
  {
   "cell_type": "code",
   "execution_count": null,
   "id": "dcb8a1bd-bdd8-4d27-8d03-e01d42344c98",
   "metadata": {},
   "outputs": [],
   "source": []
  }
 ],
 "metadata": {
  "kernelspec": {
   "display_name": "venv",
   "language": "python",
   "name": "venv"
  },
  "language_info": {
   "codemirror_mode": {
    "name": "ipython",
    "version": 3
   },
   "file_extension": ".py",
   "mimetype": "text/x-python",
   "name": "python",
   "nbconvert_exporter": "python",
   "pygments_lexer": "ipython3",
   "version": "3.13.1"
  }
 },
 "nbformat": 4,
 "nbformat_minor": 5
}
